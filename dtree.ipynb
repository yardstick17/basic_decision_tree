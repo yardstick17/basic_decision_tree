{
 "cells": [
  {
   "cell_type": "code",
   "execution_count": 1,
   "metadata": {},
   "outputs": [],
   "source": [
    "from numpy import *\n",
    "import dtree\n"
   ]
  },
  {
   "cell_type": "code",
   "execution_count": 2,
   "metadata": {},
   "outputs": [],
   "source": [
    "# create a decision tree object\n",
    "dt = dtree.dtree()"
   ]
  },
  {
   "cell_type": "code",
   "execution_count": 3,
   "metadata": {},
   "outputs": [
    {
     "name": "stdout",
     "output_type": "stream",
     "text": [
      "Enter file name: play.data\n"
     ]
    }
   ],
   "source": [
    "fileName = raw_input('Enter file name: ')"
   ]
  },
  {
   "cell_type": "code",
   "execution_count": 4,
   "metadata": {},
   "outputs": [
    {
     "name": "stdout",
     "output_type": "stream",
     "text": [
      "{'Outlook': array(['Overcast', 'Rain', 'Sunny'], dtype='|S8'), 'Humid': array(['High', 'Normal'], dtype='|S8'), 'Wind': array(['Strong', 'Weak'], dtype='|S8'), 'Temp': array(['Cool', 'Hot', 'Mild'], dtype='|S8')}\n",
      "Feature Data:  [['Sunny', 'Hot', 'High', 'Weak'], ['Sunny', 'Hot', 'High', 'Strong'], ['Overcast', 'Hot', 'High', 'Weak'], ['Rain', 'Mild', 'High', 'Weak'], ['Rain', 'Cool', 'Normal', 'Weak'], ['Rain', 'Cool', 'Normal', 'Strong'], ['Overcast', 'Cool', 'Normal', 'Strong'], ['Sunny', 'Mild', 'High', 'Weak'], ['Sunny', 'Cool', 'Normal', 'Weak'], ['Rain', 'Mild', 'Normal', 'Weak'], ['Sunny', 'Mild', 'Normal', 'Strong'], ['Overcast', 'Mild', 'High', 'Strong']]\n",
      "Class Data: ['No', 'No', 'Yes', 'Yes', 'Yes', 'No', 'Yes', 'No', 'Yes', 'Yes', 'Yes', 'Yes']\n",
      "feature Names:  ['Outlook', 'Temp', 'Humid', 'Wind']\n"
     ]
    }
   ],
   "source": [
    "fh = open(fileName)\n",
    "# load your data in for building the tree\n",
    "\n",
    "data, classData, featureNames = dt.read_data(fileName)\n",
    "print 'Feature Data: ', data\n",
    "print 'Class Data:', classData\n",
    "print 'feature Names: ', featureNames\n"
   ]
  },
  {
   "cell_type": "code",
   "execution_count": 5,
   "metadata": {},
   "outputs": [
    {
     "name": "stdout",
     "output_type": "stream",
     "text": [
      "Tree stored as a dictionary:  {'Outlook': {'Overcast': 'Yes', 'Sunny': {'Temp': {'Hot': 'No', 'Mild': {'Humid': {'High': 'No', 'Normal': 'Yes'}}, 'Cool': 'Yes'}}, 'Rain': {'Temp': {'Hot': 'Yes', 'Mild': 'Yes', 'Cool': {'Wind': {'Strong': 'No', 'Weak': 'Yes'}}}}}}\n",
      "\n",
      "-------------------\n",
      "Decision Tree Model:\n",
      "-------------------\n",
      "\n",
      " Outlook = Overcast \n",
      "\t -> Play = Yes\n",
      " Outlook = Sunny \n",
      "\t Temp = Hot \n",
      "\t\t -> Play = No\n",
      "\t Temp = Mild \n",
      "\t\t Humid = High \n",
      "\t\t\t -> Play = No\n",
      "\t\t Humid = Normal \n",
      "\t\t\t -> Play = Yes\n",
      "\t Temp = Cool \n",
      "\t\t -> Play = Yes\n",
      " Outlook = Rain \n",
      "\t Temp = Hot \n",
      "\t\t -> Play = Yes\n",
      "\t Temp = Mild \n",
      "\t\t -> Play = Yes\n",
      "\t Temp = Cool \n",
      "\t\t Wind = Strong \n",
      "\t\t\t -> Play = No\n",
      "\t\t Wind = Weak \n",
      "\t\t\t -> Play = Yes\n",
      "\n",
      "Preidction Accuracy:  100\n"
     ]
    }
   ],
   "source": [
    "\n",
    "\n",
    "\n",
    "# build the decision tree model\n",
    "t = dt.ID3(data,classData,featureNames, \"\")\n",
    "print \"Tree stored as a dictionary: \", t\n",
    "\n",
    "#print out the decision tree model\n",
    "print \"\\n-------------------\"\n",
    "print \"Decision Tree Model:\"\n",
    "print \"-------------------\\n\"\n",
    "dt.printTree(t, \"\")\n",
    "\n",
    "predicted = dt.classifyAll(t, data)\n",
    "print \"\\nPreidction Accuracy: \", dt.predictionAccuracy(predicted, classData)\n"
   ]
  },
  {
   "cell_type": "code",
   "execution_count": null,
   "metadata": {},
   "outputs": [],
   "source": []
  }
 ],
 "metadata": {
  "kernelspec": {
   "display_name": "Python 2",
   "language": "python",
   "name": "python2"
  },
  "language_info": {
   "codemirror_mode": {
    "name": "ipython",
    "version": 2
   },
   "file_extension": ".py",
   "mimetype": "text/x-python",
   "name": "python",
   "nbconvert_exporter": "python",
   "pygments_lexer": "ipython2",
   "version": "2.7.10"
  }
 },
 "nbformat": 4,
 "nbformat_minor": 2
}
